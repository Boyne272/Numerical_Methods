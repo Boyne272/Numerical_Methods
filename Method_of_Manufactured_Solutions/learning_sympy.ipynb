{
 "cells": [
  {
   "cell_type": "code",
   "execution_count": 2,
   "metadata": {},
   "outputs": [],
   "source": [
    "# import modules\n",
    "import sympy as sy\n",
    "import sympy.vector as vc\n",
    "sy.init_printing(use_latex=True) # set ipython to use latex\n",
    "import numpy as np\n",
    "\n",
    "%matplotlib inline\n",
    "import matplotlib.pyplot as plt\n",
    "\n",
    "from IPython.display import HTML, display"
   ]
  },
  {
   "cell_type": "markdown",
   "metadata": {},
   "source": [
    "## Exercise 1.3.1 Sympy\n",
    "\n",
    "\n",
    "1) Use SymPy to form symbolic expressions for 𝑇, 𝑘, 𝜌 and 𝐶𝑝.\n",
    "\n",
    "\n",
    "To begin with a coordinate system object is needed so that grad and divergence from the sympy.vector package can be used when finding the source term later. With this and several other sympy symbols the equations can be entered as given. I check them by printing equations in latex."
   ]
  },
  {
   "cell_type": "code",
   "execution_count": 3,
   "metadata": {},
   "outputs": [
    {
     "data": {
      "image/png": "[encoded data removed]",
      "text/latex": [
       "$$T_{0} \\left(\\sin^{2}{\\left (\\frac{\\mathbf{{x}_{s}}}{R} \\right )} \\sin^{2}{\\left (\\frac{2 \\mathbf{{y}_{s}}}{R} \\right )} \\sin^{2}{\\left (\\frac{3 \\mathbf{{z}_{s}}}{R} \\right )} + 1\\right) e^{\\frac{t}{t_{0}} \\left(- t + t_{0}\\right)}$$"
      ],
      "text/plain": [
       "                                            t⋅(-t + t₀)\n",
       "                                            ───────────\n",
       "   ⎛   2⎛s_x⎞    2⎛2⋅s_y⎞    2⎛3⋅s_z⎞    ⎞       t₀    \n",
       "T₀⋅⎜sin ⎜───⎟⋅sin ⎜─────⎟⋅sin ⎜─────⎟ + 1⎟⋅ℯ           \n",
       "   ⎝    ⎝ R ⎠     ⎝  R  ⎠     ⎝  R  ⎠    ⎠             "
      ]
     },
     "metadata": {},
     "output_type": "display_data"
    },
    {
     "data": {
      "image/png": "[encoded data removed]",
      "text/latex": [
       "$$k_{0} \\left(1 + \\frac{1}{R} \\sqrt{\\mathbf{{x}_{s}}^{2} + 2 \\mathbf{{y}_{s}}^{2} + 3 \\mathbf{{z}_{s}}^{2}}\\right)$$"
      ],
      "text/plain": [
       "   ⎛       ________________________⎞\n",
       "   ⎜      ╱    2        2        2 ⎟\n",
       "   ⎜    ╲╱  s_x  + 2⋅s_y  + 3⋅s_z  ⎟\n",
       "k₀⋅⎜1 + ───────────────────────────⎟\n",
       "   ⎝                 R             ⎠"
      ]
     },
     "metadata": {},
     "output_type": "display_data"
    },
    {
     "data": {
      "image/png": "[encoded data removed]",
      "text/latex": [
       "$$\\rho_{0} \\left(1 + \\frac{1}{R} \\sqrt{3 \\mathbf{{x}_{s}}^{2} + \\mathbf{{y}_{s}}^{2} + 2 \\mathbf{{z}_{s}}^{2}}\\right)$$"
      ],
      "text/plain": [
       "   ⎛       ________________________⎞\n",
       "   ⎜      ╱      2      2        2 ⎟\n",
       "   ⎜    ╲╱  3⋅s_x  + s_y  + 2⋅s_z  ⎟\n",
       "ρ₀⋅⎜1 + ───────────────────────────⎟\n",
       "   ⎝                 R             ⎠"
      ]
     },
     "metadata": {},
     "output_type": "display_data"
    },
    {
     "data": {
      "image/png": "[encoded data removed]",
      "text/latex": [
       "$$C_{p0} \\left(1 + \\frac{1}{R} \\sqrt{2 \\mathbf{{x}_{s}}^{2} + 3 \\mathbf{{y}_{s}}^{2} + \\mathbf{{z}_{s}}^{2}}\\right)$$"
      ],
      "text/plain": [
       "    ⎛       ________________________⎞\n",
       "    ⎜      ╱      2        2      2 ⎟\n",
       "    ⎜    ╲╱  2⋅s_x  + 3⋅s_y  + s_z  ⎟\n",
       "Cₚ₀⋅⎜1 + ───────────────────────────⎟\n",
       "    ⎝                 R             ⎠"
      ]
     },
     "metadata": {},
     "output_type": "display_data"
    }
   ],
   "source": [
    "# declare coordinate system and symbols\n",
    "s = vc.CoordSys3D('s')\n",
    "x, y, z = s.x, s.y, s.z\n",
    "t = sy.Symbol('t')\n",
    "k_, r_, Cp_, t_, T_, R = sy.symbols(['k_0', 'rho_0', 'C_p0', 't_0', 'T_0', 'R'])  # constants\n",
    "\n",
    "# Manufactured solution equations\n",
    "T = T_ * (1 + sy.sin(x/R)**2 * sy.sin(2*y/R)**2 * sy.sin(3*z/R)**2) * sy.exp(t * (t_ - t)/ t_)\n",
    "k = k_ * (1 + sy.sqrt(x**2 + 2*y**2 + 3*z**2)/R)\n",
    "r = r_ * (1 + sy.sqrt(3*x**2 + y**2 + 2*z**2)/R)\n",
    "Cp = Cp_ * (1 + sy.sqrt(2*x**2 + 3*y**2 + z**2)/R)\n",
    "\n",
    "# print these equations\n",
    "for eqn in (T, k ,r, Cp):\n",
    "    display(eqn)"
   ]
  },
  {
   "cell_type": "markdown",
   "metadata": {},
   "source": [
    "These all look as they are meant to from the lecture 11. \n",
    "\n",
    "2) Use these symbolic expressions to create a symbolic expression for the source, 𝑔.\n",
    "\n",
    "Since the coordinate system was used finding the divergence and gradient symbolically can be done by sympy.vector package."
   ]
  },
  {
   "cell_type": "code",
   "execution_count": 4,
   "metadata": {},
   "outputs": [
    {
     "data": {
      "image/png": "[encoded data removed]",
      "text/latex": [
       "$$\\frac{T_{0} e^{- \\frac{t}{t_{0}} \\left(t - t_{0}\\right)}}{R^{3} t_{0} \\sqrt{\\mathbf{{x}_{s}}^{2} + 2 \\mathbf{{y}_{s}}^{2} + 3 \\mathbf{{z}_{s}}^{2}}} \\left(- C_{p0} R \\rho_{0} \\left(R + \\sqrt{2 \\mathbf{{x}_{s}}^{2} + 3 \\mathbf{{y}_{s}}^{2} + \\mathbf{{z}_{s}}^{2}}\\right) \\left(R + \\sqrt{3 \\mathbf{{x}_{s}}^{2} + \\mathbf{{y}_{s}}^{2} + 2 \\mathbf{{z}_{s}}^{2}}\\right) \\left(2 t - t_{0}\\right) \\left(\\sin^{2}{\\left (\\frac{\\mathbf{{x}_{s}}}{R} \\right )} \\sin^{2}{\\left (\\frac{2 \\mathbf{{y}_{s}}}{R} \\right )} \\sin^{2}{\\left (\\frac{3 \\mathbf{{z}_{s}}}{R} \\right )} + 1\\right) \\sqrt{\\mathbf{{x}_{s}}^{2} + 2 \\mathbf{{y}_{s}}^{2} + 3 \\mathbf{{z}_{s}}^{2}} - 2 R k_{0} t_{0} \\left(9 \\sin{\\left (\\frac{\\mathbf{{x}_{s}}}{R} \\right )} \\sin{\\left (\\frac{2 \\mathbf{{y}_{s}}}{R} \\right )} \\cos{\\left (\\frac{3 \\mathbf{{z}_{s}}}{R} \\right )} \\mathbf{{z}_{s}} + 4 \\sin{\\left (\\frac{\\mathbf{{x}_{s}}}{R} \\right )} \\sin{\\left (\\frac{3 \\mathbf{{z}_{s}}}{R} \\right )} \\cos{\\left (\\frac{2 \\mathbf{{y}_{s}}}{R} \\right )} \\mathbf{{y}_{s}} + \\sin{\\left (\\frac{2 \\mathbf{{y}_{s}}}{R} \\right )} \\sin{\\left (\\frac{3 \\mathbf{{z}_{s}}}{R} \\right )} \\cos{\\left (\\frac{\\mathbf{{x}_{s}}}{R} \\right )} \\mathbf{{x}_{s}}\\right) \\sin{\\left (\\frac{\\mathbf{{x}_{s}}}{R} \\right )} \\sin{\\left (\\frac{2 \\mathbf{{y}_{s}}}{R} \\right )} \\sin{\\left (\\frac{3 \\mathbf{{z}_{s}}}{R} \\right )} + 2 k_{0} t_{0} \\left(R + \\sqrt{\\mathbf{{x}_{s}}^{2} + 2 \\mathbf{{y}_{s}}^{2} + 3 \\mathbf{{z}_{s}}^{2}}\\right) \\sqrt{\\mathbf{{x}_{s}}^{2} + 2 \\mathbf{{y}_{s}}^{2} + 3 \\mathbf{{z}_{s}}^{2}} \\left(14 \\sin^{2}{\\left (\\frac{\\mathbf{{x}_{s}}}{R} \\right )} \\sin^{2}{\\left (\\frac{2 \\mathbf{{y}_{s}}}{R} \\right )} \\sin^{2}{\\left (\\frac{3 \\mathbf{{z}_{s}}}{R} \\right )} - 9 \\sin^{2}{\\left (\\frac{\\mathbf{{x}_{s}}}{R} \\right )} \\sin^{2}{\\left (\\frac{2 \\mathbf{{y}_{s}}}{R} \\right )} \\cos^{2}{\\left (\\frac{3 \\mathbf{{z}_{s}}}{R} \\right )} - 4 \\sin^{2}{\\left (\\frac{\\mathbf{{x}_{s}}}{R} \\right )} \\sin^{2}{\\left (\\frac{3 \\mathbf{{z}_{s}}}{R} \\right )} \\cos^{2}{\\left (\\frac{2 \\mathbf{{y}_{s}}}{R} \\right )} - \\sin^{2}{\\left (\\frac{2 \\mathbf{{y}_{s}}}{R} \\right )} \\sin^{2}{\\left (\\frac{3 \\mathbf{{z}_{s}}}{R} \\right )} \\cos^{2}{\\left (\\frac{\\mathbf{{x}_{s}}}{R} \\right )}\\right)\\right)$$"
      ],
      "text/plain": [
       "                                                                              \n",
       "   ⎛           ⎛       ________________________⎞ ⎛       _____________________\n",
       "   ⎜           ⎜      ╱      2        2      2 ⎟ ⎜      ╱      2      2       \n",
       "T₀⋅⎜- Cₚ₀⋅R⋅ρ₀⋅⎝R + ╲╱  2⋅s_x  + 3⋅s_y  + s_z  ⎠⋅⎝R + ╲╱  3⋅s_x  + s_y  + 2⋅s_\n",
       "   ⎝                                                                          \n",
       "──────────────────────────────────────────────────────────────────────────────\n",
       "                                                                              \n",
       "                                                                              \n",
       "                                                                              \n",
       "\n",
       "                                                                              \n",
       "___⎞                                                       ___________________\n",
       " 2 ⎟            ⎛   2⎛s_x⎞    2⎛2⋅s_y⎞    2⎛3⋅s_z⎞    ⎞   ╱    2        2     \n",
       "z  ⎠⋅(2⋅t - t₀)⋅⎜sin ⎜───⎟⋅sin ⎜─────⎟⋅sin ⎜─────⎟ + 1⎟⋅╲╱  s_x  + 2⋅s_y  + 3⋅\n",
       "                ⎝    ⎝ R ⎠     ⎝  R  ⎠     ⎝  R  ⎠    ⎠                       \n",
       "──────────────────────────────────────────────────────────────────────────────\n",
       "                                                                              \n",
       "                                                                              \n",
       "                                                                              \n",
       "\n",
       "                                                                              \n",
       "_____                                                                         \n",
       "   2              ⎛     ⎛s_x⎞    ⎛2⋅s_y⎞    ⎛3⋅s_z⎞            ⎛s_x⎞    ⎛3⋅s_z\n",
       "s_z   - 2⋅R⋅k₀⋅t₀⋅⎜9⋅sin⎜───⎟⋅sin⎜─────⎟⋅cos⎜─────⎟⋅s_z + 4⋅sin⎜───⎟⋅sin⎜─────\n",
       "                  ⎝     ⎝ R ⎠    ⎝  R  ⎠    ⎝  R  ⎠            ⎝ R ⎠    ⎝  R  \n",
       "──────────────────────────────────────────────────────────────────────────────\n",
       "                                                                              \n",
       "                                                                              \n",
       "                                                                              \n",
       "\n",
       "                                                                              \n",
       "                                                                              \n",
       "⎞    ⎛2⋅s_y⎞          ⎛2⋅s_y⎞    ⎛3⋅s_z⎞    ⎛s_x⎞    ⎞    ⎛s_x⎞    ⎛2⋅s_y⎞    \n",
       "⎟⋅cos⎜─────⎟⋅s_y + sin⎜─────⎟⋅sin⎜─────⎟⋅cos⎜───⎟⋅s_x⎟⋅sin⎜───⎟⋅sin⎜─────⎟⋅sin\n",
       "⎠    ⎝  R  ⎠          ⎝  R  ⎠    ⎝  R  ⎠    ⎝ R ⎠    ⎠    ⎝ R ⎠    ⎝  R  ⎠    \n",
       "──────────────────────────────────────────────────────────────────────────────\n",
       "                                     ________________________                 \n",
       "                             3      ╱    2        2        2                  \n",
       "                            R ⋅t₀⋅╲╱  s_x  + 2⋅s_y  + 3⋅s_z                   \n",
       "\n",
       "                                                                              \n",
       "                  ⎛       ________________________⎞    _______________________\n",
       "⎛3⋅s_z⎞           ⎜      ╱    2        2        2 ⎟   ╱    2        2        2\n",
       "⎜─────⎟ + 2⋅k₀⋅t₀⋅⎝R + ╲╱  s_x  + 2⋅s_y  + 3⋅s_z  ⎠⋅╲╱  s_x  + 2⋅s_y  + 3⋅s_z \n",
       "⎝  R  ⎠                                                                       \n",
       "──────────────────────────────────────────────────────────────────────────────\n",
       "                                                                              \n",
       "                                                                              \n",
       "                                                                              \n",
       "\n",
       "                                                                              \n",
       "_                                                                             \n",
       "  ⎛      2⎛s_x⎞    2⎛2⋅s_y⎞    2⎛3⋅s_z⎞        2⎛s_x⎞    2⎛2⋅s_y⎞    2⎛3⋅s_z⎞ \n",
       " ⋅⎜14⋅sin ⎜───⎟⋅sin ⎜─────⎟⋅sin ⎜─────⎟ - 9⋅sin ⎜───⎟⋅sin ⎜─────⎟⋅cos ⎜─────⎟ \n",
       "  ⎝       ⎝ R ⎠     ⎝  R  ⎠     ⎝  R  ⎠         ⎝ R ⎠     ⎝  R  ⎠     ⎝  R  ⎠ \n",
       "──────────────────────────────────────────────────────────────────────────────\n",
       "                                                                              \n",
       "                                                                              \n",
       "                                                                              \n",
       "\n",
       "                                                                             -\n",
       "                                                                          ⎞  ─\n",
       "       2⎛s_x⎞    2⎛3⋅s_z⎞    2⎛2⋅s_y⎞      2⎛2⋅s_y⎞    2⎛3⋅s_z⎞    2⎛s_x⎞⎞⎟   \n",
       "- 4⋅sin ⎜───⎟⋅sin ⎜─────⎟⋅cos ⎜─────⎟ - sin ⎜─────⎟⋅sin ⎜─────⎟⋅cos ⎜───⎟⎟⎟⋅ℯ \n",
       "        ⎝ R ⎠     ⎝  R  ⎠     ⎝  R  ⎠       ⎝  R  ⎠     ⎝  R  ⎠     ⎝ R ⎠⎠⎠   \n",
       "──────────────────────────────────────────────────────────────────────────────\n",
       "                                                                              \n",
       "                                                                              \n",
       "                                                                              \n",
       "\n",
       "t⋅(t - t₀) \n",
       "───────────\n",
       "    t₀     \n",
       "           \n",
       "           \n",
       "───────────\n",
       "           \n",
       "           \n",
       "           "
      ]
     },
     "metadata": {},
     "output_type": "display_data"
    }
   ],
   "source": [
    "# find the source term\n",
    "g = r * Cp * sy.diff(T, t) - vc.divergence(k * vc.gradient(T))\n",
    "g = sy.simplify(g)\n",
    "display(g)"
   ]
  },
  {
   "cell_type": "markdown",
   "metadata": {},
   "source": [
    "This is incredibly long (explains why we should used sympy), but seems reasonable as:\n",
    "- The source term exponentially decays in the same manner as the trial solution as one would expect (both go to zero)\n",
    "- All symbols are still present\n",
    "- x,y,z all appear either in a sin function or inside a square root together, in the same manner as all the input equations\n",
    "\n",
    "Hence I can be fairly confident this is correct."
   ]
  }
 ],
 "metadata": {
  "kernelspec": {
   "display_name": "Python 3",
   "language": "python",
   "name": "python3"
  },
  "language_info": {
   "codemirror_mode": {
    "name": "ipython",
    "version": 3
   },
   "file_extension": ".py",
   "mimetype": "text/x-python",
   "name": "python",
   "nbconvert_exporter": "python",
   "pygments_lexer": "ipython3",
   "version": "3.6.5"
  }
 },
 "nbformat": 4,
 "nbformat_minor": 2
}
